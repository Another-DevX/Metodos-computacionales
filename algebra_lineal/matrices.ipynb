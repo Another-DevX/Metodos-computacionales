{
 "cells": [
  {
   "cell_type": "code",
   "execution_count": 2,
   "metadata": {},
   "outputs": [],
   "source": [
    "import numpy as np\n",
    "from numpy.linalg import *\n",
    "import time\n",
    "import matplotlib.pyplot as plt"
   ]
  },
  {
   "cell_type": "code",
   "execution_count": 3,
   "metadata": {},
   "outputs": [
    {
     "name": "stdout",
     "output_type": "stream",
     "text": [
      "Matrix: [[ 2  3  4]\n",
      " [10 12  5]\n",
      " [ 7  7  7]]\n",
      "Transpose: [[ 2 10  7]\n",
      " [ 3 12  7]\n",
      " [ 4  5  7]]\n",
      "Dot: [[ 13  51  13]\n",
      " [ 32 120  32]\n",
      " [ 28 105  28]]\n",
      "Det: -62.99999999999999\n",
      "Inv: [[-0.77777778 -0.11111111  0.52380952]\n",
      " [ 0.55555556  0.22222222 -0.47619048]\n",
      " [ 0.22222222 -0.11111111  0.0952381 ]]\n",
      "Diag: [[0 0 3 0]\n",
      " [0 0 0 3]\n",
      " [0 0 0 0]\n",
      " [0 0 0 0]]\n",
      "Dimention: (3, 3)\n"
     ]
    }
   ],
   "source": [
    "\n",
    "M1 = np.matrix([[2, 3, 4], [ 10 , 12 , 5], [7,7,7]])\n",
    "M2 = np.matrix([[1, 2, 1], [ 1 , 5 , 1], [2,8,2]])\n",
    "transpose = np.transpose(M1)\n",
    "\n",
    "\n",
    "print(f'Matrix: {M1}')\n",
    "print(f\"Transpose: {transpose}\")\n",
    "print(f\"Dot: {M1*M2}\")\n",
    "print(f\"Det: {det(M1)}\")\n",
    "print(f\"Inv: {inv(M1)}\")\n",
    "print(f\"Diag: {np.diag([3,3],2)}\")\n",
    "print(f\"Dimention: {M1.shape}\")\n"
   ]
  },
  {
   "cell_type": "markdown",
   "metadata": {},
   "source": [
    "Para resolver $Ax = b$, $x = A^{-1}b$"
   ]
  },
  {
   "cell_type": "code",
   "execution_count": 4,
   "metadata": {},
   "outputs": [
    {
     "name": "stdout",
     "output_type": "stream",
     "text": [
      "result: [[ 0.57142857 -0.42857143  0.28571429]] \n",
      "time: 0.0006277561187744141\n",
      "result: [ 0.57142857 -0.42857143  0.28571429] \n",
      "time: 0.0003154277801513672\n",
      "speedup: 1.9901738473167045\n"
     ]
    }
   ],
   "source": [
    "b = np.array([1, 2, 3])\n",
    "\n",
    "start_time = time.time()\n",
    "x = np.matmul(inv(M1), b)\n",
    "end_time = time.time()\n",
    "time1 = end_time - start_time\n",
    "print(f\"result: {x} \\ntime: {end_time - start_time}\")\n",
    "\n",
    "start_time = time.time()\n",
    "x = solve(M1, b)\n",
    "end_time = time.time()\n",
    "time2 = end_time - start_time\n",
    "print(f\"result: {x} \\ntime: {end_time - start_time}\")\n",
    "print(f\"speedup: {time1/time2}\")"
   ]
  },
  {
   "cell_type": "code",
   "execution_count": 5,
   "metadata": {},
   "outputs": [
    {
     "data": {
      "text/plain": [
       "matrix([[ 2,  3,  4],\n",
       "        [10, 12,  5],\n",
       "        [ 7,  7,  7],\n",
       "        [ 2,  3,  4],\n",
       "        [10, 12,  5],\n",
       "        [ 7,  7,  7]])"
      ]
     },
     "execution_count": 5,
     "metadata": {},
     "output_type": "execute_result"
    }
   ],
   "source": [
    "b = np.array([5,5,5])\n",
    "np.r_[M1,[b]]\n",
    "np.r_[M1,[b,b,b]]\n",
    "np.append(M1,M1, \n",
    "          axis=0)"
   ]
  },
  {
   "cell_type": "code",
   "execution_count": 6,
   "metadata": {},
   "outputs": [
    {
     "name": "stdout",
     "output_type": "stream",
     "text": [
      "[[0.52700119 0.79246585]\n",
      " [0.2942717  0.8094251 ]]\n"
     ]
    },
    {
     "data": {
      "image/png": "[encoded data removed]",
      "text/plain": [
       "<Figure size 640x480 with 1 Axes>"
      ]
     },
     "metadata": {},
     "output_type": "display_data"
    }
   ],
   "source": [
    "scalar = -.5\n",
    "x, y = 4, 2\n",
    "plt.arrow(0,0,x,y,head_width=0.1, head_length=0.1, fc='k', ec='k')\n",
    "v1 = scalar*np.array([x,y])\n",
    "plt.arrow(0,0,v1[0],v1[1],head_width=0.1, head_length=0.1, fc='r', ec='r')\n",
    "\n",
    "A = np.random.rand(2,2)\n",
    "print(A)\n",
    "v2 = A@v1\n",
    "\n",
    "plt.arrow(0,0,v2[0],v2[1],head_width=0.1, head_length=0.1, fc='b', ec='b')\n",
    "\n",
    "plt.xlim(-5,5)\n",
    "plt.ylim(-5,5)\n",
    "plt.grid()"
   ]
  },
  {
   "cell_type": "code",
   "execution_count": 77,
   "metadata": {},
   "outputs": [
    {
     "data": {
      "text/plain": [
       "array([-5.        ,  6.66666667,  4.33333333])"
      ]
     },
     "execution_count": 77,
     "metadata": {},
     "output_type": "execute_result"
    }
   ],
   "source": [
    "def gauss_jordan(A, b):\n",
    "    for j in range(A.shape[1]):\n",
    "        aj = A[j][j]\n",
    "        for i in range(j + 1 , A.shape[0]):\n",
    "            ai = A[i][j]\n",
    "            scalar = - ai/aj\n",
    "            A[i] = A[i] + (A[j] * scalar)\n",
    "            b[i] = b[i] + (b[j]*scalar)\n",
    "            if(i == j + 1):\n",
    "                aii = A[i][i]\n",
    "                A[i] = A[i]/aii\n",
    "                b[i] = b[i]/aii\n",
    "\n",
    "    x = np.zeros_like(b)\n",
    "    for i in range(A.shape[0] - 1, -1, -1):\n",
    "        val = 0\n",
    "        for j in range(A.shape[1]-1,i - 1,-1):\n",
    "            if(i == j): continue\n",
    "            val += (-1* A[i][j])*x[j] \n",
    "        val += b[i]\n",
    "        x[i] = val\n",
    "    return x\n",
    "    \n",
    "  \n",
    "\n",
    "\n",
    "\n",
    "\n",
    "\n",
    "A = np.array([[1,2,-1],[2,1,1], [3,2,2]])\n",
    "b = [4, 1, 7]\n",
    "gauss_jordan(A,b)"
   ]
  },
  {
   "cell_type": "code",
   "execution_count": null,
   "metadata": {},
   "outputs": [],
   "source": []
  }
 ],
 "metadata": {
  "kernelspec": {
   "display_name": "env",
   "language": "python",
   "name": "python3"
  },
  "language_info": {
   "codemirror_mode": {
    "name": "ipython",
    "version": 3
   },
   "file_extension": ".py",
   "mimetype": "text/x-python",
   "name": "python",
   "nbconvert_exporter": "python",
   "pygments_lexer": "ipython3",
   "version": "3.12.3"
  }
 },
 "nbformat": 4,
 "nbformat_minor": 2
}
