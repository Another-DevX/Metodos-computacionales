{
 "cells": [
  {
   "cell_type": "code",
   "execution_count": 86,
   "metadata": {},
   "outputs": [],
   "source": [
    "import numpy as np\n",
    "import matplotlib.pyplot as plt\n",
    "import matplotlib.animation as animation\n",
    "import numpy as np\n",
    "from functools import partial"
   ]
  },
  {
   "cell_type": "code",
   "execution_count": 114,
   "metadata": {},
   "outputs": [],
   "source": [
    "class Box:\n",
    "    def __init__(self, x, m, velocity=0):\n",
    "        self.x = x\n",
    "        self.m = m\n",
    "        self.v = velocity\n",
    "        self.s = 10\n",
    "\n",
    "    def update_position(self, t):\n",
    "        self.x += self.v * t\n",
    "\n",
    "    def check_wall_collision(self, collisions):\n",
    "        if self.x <= 0:\n",
    "            self.x = 0\n",
    "            self.v = -self.v\n",
    "            collisions += 1\n",
    "\n",
    "\n",
    "def collision(m1, m2, v1, v2):\n",
    "    v1f = (2 * m2 * v2 + (m1 - m2) * v1) / (m1 + m2)\n",
    "    v2f = (2 * m1 * v1 + (m2 - m1) * v2) / (m1 + m2)\n",
    "\n",
    "    return v1f, v2f\n",
    "\n",
    "\n",
    "def update(frame, b1, b2, rect1, rect2):\n",
    "    global collisions\n",
    "\n",
    "    t = frame * 0.01\n",
    "    b1.update_position(t)\n",
    "    b2.update_position(t)\n",
    "\n",
    "    if np.abs(b1.x - b2.x) <= (b1.s + b2.s) / 2:\n",
    "        b1.v, b2.v = collision(b1.m, b2.m, b1.v, b2.v)\n",
    "        collisions += 1\n",
    "\n",
    "    b1.check_wall_collision(collisions)\n",
    "    b2.check_wall_collision(collisions)\n",
    "\n",
    "    rect1.set_x(b1.x)\n",
    "    rect2.set_x(b2.x)\n",
    "\n",
    "    print(b1.x, b2.x, frame)\n",
    "    frame += 1\n",
    "\n",
    "\n",
    "\n",
    "    return rect1, rect2"
   ]
  },
  {
   "cell_type": "code",
   "execution_count": 115,
   "metadata": {},
   "outputs": [
    {
     "name": "stdout",
     "output_type": "stream",
     "text": [
      "5.0 60.0 0\n",
      "5.0 60.0 0\n"
     ]
    },
    {
     "data": {
      "image/png": "[encoded data removed]",
      "text/plain": [
       "<Figure size 640x480 with 1 Axes>"
      ]
     },
     "metadata": {},
     "output_type": "display_data"
    }
   ],
   "source": [
    "b1 = Box(5, 10)\n",
    "b2 = Box(60, 10, velocity=-10)\n",
    "\n",
    "dt = 0.01\n",
    "t = 0\n",
    "collisions = 0\n",
    "\n",
    "fig, ax = plt.subplots()\n",
    "ax.set_xlim(0, 150)\n",
    "ax.set_ylim(-10, 10)\n",
    "\n",
    "# Dibujar las cajas como rectángulos\n",
    "rect1 = plt.Rectangle((b1.x, 0), b1.s, 5, fc=\"blue\")\n",
    "rect2 = plt.Rectangle((b2.x, 0), b2.s, 5, fc=\"red\")\n",
    "\n",
    "ax.add_patch(rect1)\n",
    "ax.add_patch(rect2)\n",
    "\n",
    "# Crear animación\n",
    "ani = animation.FuncAnimation(\n",
    "    fig,\n",
    "    update,\n",
    "    frames=300,\n",
    "    interval=50,\n",
    "    blit=True,\n",
    "    fargs=(b1, b2 ,rect1, rect2),  # argumentos extra para 'update'\n",
    ")\n",
    "\n",
    "plt.show()"
   ]
  },
  {
   "cell_type": "code",
   "execution_count": null,
   "metadata": {
    "vscode": {
     "languageId": "ruby"
    }
   },
   "outputs": [],
   "source": []
  },
  {
   "cell_type": "code",
   "execution_count": null,
   "metadata": {
    "vscode": {
     "languageId": "ruby"
    }
   },
   "outputs": [],
   "source": []
  }
 ],
 "metadata": {
  "kernelspec": {
   "display_name": "env",
   "language": "python",
   "name": "python3"
  },
  "language_info": {
   "codemirror_mode": {
    "name": "ipython",
    "version": 3
   },
   "file_extension": ".py",
   "mimetype": "text/x-python",
   "name": "python",
   "nbconvert_exporter": "python",
   "pygments_lexer": "ipython3",
   "version": "3.12.3"
  }
 },
 "nbformat": 4,
 "nbformat_minor": 2
}
