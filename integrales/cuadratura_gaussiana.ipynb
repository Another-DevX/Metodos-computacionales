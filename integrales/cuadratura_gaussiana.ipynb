{
 "cells": [
  {
   "cell_type": "code",
   "execution_count": 1,
   "metadata": {},
   "outputs": [],
   "source": [
    "import numpy as np"
   ]
  },
  {
   "cell_type": "code",
   "execution_count": 2,
   "metadata": {},
   "outputs": [],
   "source": [
    "def gauss(n,job, a,b,x,w, eps = 3.E-15 ):\n",
    "    \"\"\"\n",
    "    -------------------------------------------------------------------------\n",
    "    # Metodo de Cuadratura Gaussiana (Gauss–Legendre quadratura) usando n   #\n",
    "    # puntos en el intervalo [a,b], x y w arreglos con los puntos xi (ceros #\n",
    "    # del polinomio de Legendre P_n(x)) y pesos wi, eps es el error deseado,# \n",
    "    # job es:                                                               #\n",
    "    #        0 para integración en [a, b]                                   #\n",
    "    #        1 para integración en [0, b]                                   #\n",
    "    #        2 para integración en [a, inf]                                 #\n",
    "    -------------------------------------------------------------------------\n",
    "    \"\"\"    \n",
    "    m = (n + 1)//2 # Por simetría, solo se calcula la mitad de las raíces.\n",
    "    for i in range(1, m + 1): # Bucle para encontrar las raíces y los pesos.\n",
    "        t = np.cos(np.pi*(i - 0.25)/(n + 0.5) ) # Suposición inicial de la \n",
    "        t1 = 1                                  # i-esima raíz de orden n.\n",
    "        while( (np.abs(t - t1) ) >= eps):       # Newton iteration para\n",
    "            p1 = 1. ; p2 = 0.                   # encontrar la raíz i-esima.\n",
    "            for j in range(1, n + 1):\n",
    "                p3 = p2                         # Relación de recurrencia de \n",
    "                p2 = p1                         # P_n(x).\n",
    "                p1 = ( (2.*j - 1)*t*p2 - (j - 1.)*p3)/j\n",
    "                                                # Relación de recurrencia de \n",
    "            pp = n*(t*p1 - p2)/(t*t - 1.)       # P'_n(x): Derivada de P_n(x).\n",
    "            t1 = t\n",
    "            t  = t1 - p1/pp                     # xi = x - P_n(x)/P'_n(x).\n",
    "\n",
    "        x[i - 1] = - t      # Guardar la raíz encontrada y\n",
    "        x[n - i] = t        # por simetría esta es la otra raíz no calculada.\n",
    "        w[i - 1] = 2./( (1. - t*t)*pp*pp)       # Guardar peso.\n",
    "        w[n - i] = w[i - 1]                     # Guardar, usando simetría.\n",
    "        # print(\" x[i - 1]\", x[i - 1] , \" w \" , w[n - i])\n",
    "    if (job == 0):\n",
    "        for i in range(0, n):\n",
    "            x[i] = x[i]*(b - a)/2. + (b + a)/2. # Transformación de [-1,1] al\n",
    "            w[i] = w[i]*(b - a)/2.              # intervalo [a, b].\n",
    "            \n",
    "    if (job == 1):                              # Escala a (0, b) con 50% puntos \n",
    "        for i in range(0, n):                   # dentro de (0, ab/(a + b))\n",
    "            xi = x[i]\n",
    "            x[i] = a*b*(1. + xi)/(b + a - (b - a)*xi)\n",
    "            w[i] = w[i]*2.*a*b*b/( (b + a - (b - a)*xi)**2. )\n",
    "            \n",
    "    if (job == 2):                              # Escala a (a, inf) con 50% \n",
    "        for i in range(0, n):                   # dentro de (a, b + 2a)\n",
    "            xi = x[i]\n",
    "            x[i] = (b*xi + b + a + a)/(1. - xi)\n",
    "            w[i] = w[i]*2.*(a + b)/( (1. - xi)**2. ) "
   ]
  },
  {
   "cell_type": "code",
   "execution_count": 3,
   "metadata": {},
   "outputs": [
    {
     "data": {
      "text/plain": [
       "np.float64(0.999999999999947)"
      ]
     },
     "execution_count": 3,
     "metadata": {},
     "output_type": "execute_result"
    }
   ],
   "source": [
    "# **** función que calcula la integral llamando Gauss() para obtener los wi, xi ****       \n",
    "def Integral_Gauss(f, a, b, n):\n",
    "    \"\"\"\n",
    "       Integral de f(x) en [a,b] usando el metodo de Gauss con n puntos. \n",
    "    \"\"\"\n",
    "    w = np.zeros(n)           # contendrá los pesos w para la integración\n",
    "    x = np.zeros(n)           # contendrá los ceros de los pols. de Legendre\n",
    "\n",
    "    gauss(n, 0, a, b, x, w)   # Retorna puntos xi y wi\n",
    "\n",
    "    return sum(f(x)*w)        # Calcule integral    \n",
    "\n",
    "\n",
    "#ejemplo7:\n",
    "Integral_Gauss(lambda x: np.cos(x), 0., np.pi/2, 6)"
   ]
  }
 ],
 "metadata": {
  "kernelspec": {
   "display_name": "env",
   "language": "python",
   "name": "python3"
  },
  "language_info": {
   "codemirror_mode": {
    "name": "ipython",
    "version": 3
   },
   "file_extension": ".py",
   "mimetype": "text/x-python",
   "name": "python",
   "nbconvert_exporter": "python",
   "pygments_lexer": "ipython3",
   "version": "3.13.1"
  }
 },
 "nbformat": 4,
 "nbformat_minor": 2
}
