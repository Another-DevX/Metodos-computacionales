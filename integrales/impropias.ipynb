{
 "cells": [
  {
   "cell_type": "code",
   "execution_count": 3,
   "metadata": {},
   "outputs": [],
   "source": [
    "import numpy as np\n",
    "from sympy import *"
   ]
  },
  {
   "cell_type": "code",
   "execution_count": 5,
   "metadata": {},
   "outputs": [
    {
     "name": "stdout",
     "output_type": "stream",
     "text": [
      "0.619047619047619\n"
     ]
    }
   ],
   "source": [
    "t = symbols('t')\n",
    "g = sin(t)\n",
    "\n",
    "p4 = series(g,t,0,4).removeO()\n",
    "a=0; b=1; p=1/2\n",
    "\n",
    "\n",
    "def integral(a,b,p,n ):\n",
    "    S = 0\n",
    "    for k in range(n):\n",
    "        dy = g.diff(t,k)\n",
    "        dg = lambdify(t,dy, 'numpy')\n",
    "        S += dg(a)*(b-a)**(k+1-p)/(k+1-p)/factorial(k)\n",
    "    return S\n",
    "\n",
    "print(integral(a,b,p,4))"
   ]
  },
  {
   "cell_type": "code",
   "execution_count": null,
   "metadata": {},
   "outputs": [],
   "source": []
  }
 ],
 "metadata": {
  "kernelspec": {
   "display_name": "env",
   "language": "python",
   "name": "python3"
  },
  "language_info": {
   "codemirror_mode": {
    "name": "ipython",
    "version": 3
   },
   "file_extension": ".py",
   "mimetype": "text/x-python",
   "name": "python",
   "nbconvert_exporter": "python",
   "pygments_lexer": "ipython3",
   "version": "3.13.1"
  }
 },
 "nbformat": 4,
 "nbformat_minor": 2
}
