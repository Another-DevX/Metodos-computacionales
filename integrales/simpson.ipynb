{
 "cells": [
  {
   "cell_type": "code",
   "execution_count": 3,
   "metadata": {},
   "outputs": [],
   "source": [
    "import numpy as np\n",
    "from tqdm import tqdm"
   ]
  },
  {
   "cell_type": "code",
   "execution_count": 4,
   "metadata": {},
   "outputs": [
    {
     "name": "stderr",
     "output_type": "stream",
     "text": [
      "100%|██████████| 4999/4999 [00:00<00:00, 303592.69it/s]\n",
      "100%|██████████| 5000/5000 [00:00<00:00, 1558525.56it/s]"
     ]
    },
    {
     "name": "stdout",
     "output_type": "stream",
     "text": [
      "0.9999999999999969 3.1086244689504383e-15\n"
     ]
    },
    {
     "name": "stderr",
     "output_type": "stream",
     "text": [
      "\n"
     ]
    }
   ],
   "source": [
    "def simpson(f,a,b,n):\n",
    "    h = (b-a)/n\n",
    "    S1 = 0\n",
    "    S2 = 0\n",
    "    for i in tqdm(range(2, n, 2)):\n",
    "        S1 += f(a + i*h) \n",
    "    for i in tqdm(range(1, n+ 1, 2)):\n",
    "        S2 += f(a + i*h) \n",
    "    \n",
    "\n",
    "    return (h/3) * (f(a) + (2* S1) + (4* S2) + f(b)) \n",
    "\n",
    "S = simpson(np.cos,0,np.pi/2,10000)\n",
    "print(S, np.abs(S - 1))"
   ]
  },
  {
   "cell_type": "code",
   "execution_count": 9,
   "metadata": {},
   "outputs": [
    {
     "name": "stdout",
     "output_type": "stream",
     "text": [
      "0.9999999999999999 1.1102230246251565e-16\n"
     ]
    }
   ],
   "source": [
    "from scipy.integrate import simpson\n",
    "\n",
    "I = simpson(np.cos(np.linspace(0, np.pi/2,10000)), np.linspace(0, np.pi/2, 10000))\n",
    "print(I, np.abs(I - 1))"
   ]
  }
 ],
 "metadata": {
  "kernelspec": {
   "display_name": "env",
   "language": "python",
   "name": "python3"
  },
  "language_info": {
   "codemirror_mode": {
    "name": "ipython",
    "version": 3
   },
   "file_extension": ".py",
   "mimetype": "text/x-python",
   "name": "python",
   "nbconvert_exporter": "python",
   "pygments_lexer": "ipython3",
   "version": "3.13.1"
  }
 },
 "nbformat": 4,
 "nbformat_minor": 2
}
