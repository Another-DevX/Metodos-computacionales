{
 "cells": [
  {
   "cell_type": "code",
   "execution_count": 6,
   "metadata": {},
   "outputs": [],
   "source": [
    "import numpy as np"
   ]
  },
  {
   "cell_type": "code",
   "execution_count": 7,
   "metadata": {},
   "outputs": [
    {
     "name": "stdout",
     "output_type": "stream",
     "text": [
      "0.9999997943832332 2.056167668351705e-07\n"
     ]
    }
   ],
   "source": [
    "def trapezoidal(f, a, b, n):\n",
    "    h = (b-a)/n\n",
    "    S = 0\n",
    "    x = np.arange(a,b,h)\n",
    "    \n",
    "    for xi in x[1::]:\n",
    "        S += f(xi)\n",
    "\n",
    "    S = (h/2)*(f(a) + (2* S + (n - 2)*f(b)))\n",
    "    return S\n",
    "\n",
    "S = trapezoidal(np.cos, 0 , np.pi/2, 1000)\n",
    "print(S, np.abs(S-1))\n"
   ]
  },
  {
   "cell_type": "code",
   "execution_count": 13,
   "metadata": {},
   "outputs": [
    {
     "name": "stdout",
     "output_type": "stream",
     "text": [
      "0.999999793971382 2.060286180549653e-07\n"
     ]
    }
   ],
   "source": [
    "from scipy.integrate import trapezoid\n",
    "\n",
    "S = trapezoid(np.cos(np.linspace(0, np.pi/2, 1000)), np.linspace(0, np.pi/2, 1000))\n",
    "print(S, np.abs(S-1))"
   ]
  }
 ],
 "metadata": {
  "kernelspec": {
   "display_name": "env",
   "language": "python",
   "name": "python3"
  },
  "language_info": {
   "codemirror_mode": {
    "name": "ipython",
    "version": 3
   },
   "file_extension": ".py",
   "mimetype": "text/x-python",
   "name": "python",
   "nbconvert_exporter": "python",
   "pygments_lexer": "ipython3",
   "version": "3.13.1"
  }
 },
 "nbformat": 4,
 "nbformat_minor": 2
}
