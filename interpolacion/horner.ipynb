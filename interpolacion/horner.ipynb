{
 "cells": [
  {
   "cell_type": "code",
   "execution_count": 1,
   "metadata": {},
   "outputs": [],
   "source": [
    "import numpy as np\n",
    "import time   "
   ]
  },
  {
   "cell_type": "code",
   "execution_count": 16,
   "metadata": {},
   "outputs": [
    {
     "name": "stdout",
     "output_type": "stream",
     "text": [
      "7.939214217185054e+150\n",
      "5.09 μs ± 162 ns per loop (mean ± std. dev. of 7 runs, 100,000 loops each)\n",
      "7.939214217185054e+150\n",
      "71 μs ± 257 ns per loop (mean ± std. dev. of 7 runs, 10,000 loops each)\n"
     ]
    }
   ],
   "source": [
    "n = 29\n",
    "a_n = np.random.rand(n + 1)\n",
    "\n",
    "x = 179282\n",
    "\n",
    "\n",
    "def pol(x):\n",
    "    values = []\n",
    "    for i, a_i in enumerate(a_n):\n",
    "        values.append(a_i*x**i)\n",
    "    return values\n",
    "\n",
    "def horner(x):\n",
    "    pn = a_n[-1]\n",
    "    for a_i in reversed(a_n[:-1]):\n",
    "        pn =  a_i + pn * x\n",
    "    return pn\n",
    "\n",
    "\n",
    "print(horner(x))\n",
    "%timeit horner(x)\n",
    "print(np.sum(pol(x)))\n",
    "%timeit np.sum(pol(x))"
   ]
  },
  {
   "cell_type": "code",
   "execution_count": null,
   "metadata": {},
   "outputs": [],
   "source": []
  }
 ],
 "metadata": {
  "kernelspec": {
   "display_name": "env",
   "language": "python",
   "name": "python3"
  },
  "language_info": {
   "codemirror_mode": {
    "name": "ipython",
    "version": 3
   },
   "file_extension": ".py",
   "mimetype": "text/x-python",
   "name": "python",
   "nbconvert_exporter": "python",
   "pygments_lexer": "ipython3",
   "version": "3.12.3"
  }
 },
 "nbformat": 4,
 "nbformat_minor": 2
}
