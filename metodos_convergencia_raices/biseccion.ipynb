{
 "cells": [
  {
   "cell_type": "code",
   "execution_count": 1,
   "metadata": {},
   "outputs": [
    {
     "name": "stdout",
     "output_type": "stream",
     "text": [
      "(0.7390851332151607, 54)\n"
     ]
    }
   ],
   "source": [
    "import numpy as np\n",
    "\n",
    "p_0 = np.pi\n",
    "def biseccion(a, b, f, e, it):\n",
    "    if f(a) * f(b) < 0:\n",
    "        it += 1\n",
    "        p = (b + a) / 2\n",
    "        if  np.abs(p - p_0) < e or np.abs(f(p)) < e: \n",
    "            return (p, it)\n",
    "        if f(a) * f(p) < 0:\n",
    "            return biseccion(a, p, f, e, it)\n",
    "        else:\n",
    "            return biseccion(p, b, f, e, it)\n",
    "\n",
    "f = lambda x : x - np.cos(x)\n",
    "print(biseccion(0,np.pi , f, 1e-16, 0))"
   ]
  }
 ],
 "metadata": {
  "kernelspec": {
   "display_name": "env",
   "language": "python",
   "name": "python3"
  },
  "language_info": {
   "codemirror_mode": {
    "name": "ipython",
    "version": 3
   },
   "file_extension": ".py",
   "mimetype": "text/x-python",
   "name": "python",
   "nbconvert_exporter": "python",
   "pygments_lexer": "ipython3",
   "version": "3.12.3"
  }
 },
 "nbformat": 4,
 "nbformat_minor": 2
}
