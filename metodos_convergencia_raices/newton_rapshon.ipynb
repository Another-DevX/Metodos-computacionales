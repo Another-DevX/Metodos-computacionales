{
 "cells": [
  {
   "cell_type": "code",
   "execution_count": 19,
   "metadata": {},
   "outputs": [],
   "source": [
    "import numpy as np"
   ]
  },
  {
   "cell_type": "code",
   "execution_count": 27,
   "metadata": {},
   "outputs": [],
   "source": [
    "def punto_fijo(g,p,eps,Nmax= 1000):\n",
    "    p_0 = p\n",
    " \n",
    "    for n in range(Nmax + 1):\n",
    "        p = g(p_0)\n",
    "        if(np.abs(p-p_0) < eps): \n",
    "            print(n)\n",
    "            break\n",
    "        p_0 = p\n",
    "\n",
    "    return p\n",
    "\n",
    "def newton_rapshon(f, dxf,p0,eps,Nmax= 1000):\n",
    "    for n in range(Nmax + 1):\n",
    "        p = p0 - (f(p0)/dxf(p0))\n",
    "        if(np.abs(p - p0) < eps):\n",
    "            print(n)\n",
    "            break\n",
    "        p0 = p\n",
    "    return p"
   ]
  },
  {
   "cell_type": "code",
   "execution_count": 29,
   "metadata": {},
   "outputs": [
    {
     "name": "stdout",
     "output_type": "stream",
     "text": [
      "93\n",
      "0.7390851332151607 0.7390851332151607 0.0\n"
     ]
    }
   ],
   "source": [
    "g = lambda x : np.cos(x)\n",
    "f = lambda x : g(x) - x\n",
    "root = punto_fijo(g, np.pi, 1e-16)\n",
    "print(g(root), root, f(root))"
   ]
  },
  {
   "cell_type": "code",
   "execution_count": 28,
   "metadata": {},
   "outputs": [
    {
     "name": "stdout",
     "output_type": "stream",
     "text": [
      "9\n",
      "0.0 0.7390851332151607\n"
     ]
    }
   ],
   "source": [
    "f = lambda x : np.cos(x) - x\n",
    "dxf = lambda x: -np.sin(x) - 1 \n",
    "root = newton_rapshon(f,dxf, np.pi, 1e-16)\n",
    "print(f(root), root )"
   ]
  }
 ],
 "metadata": {
  "kernelspec": {
   "display_name": "env",
   "language": "python",
   "name": "python3"
  },
  "language_info": {
   "codemirror_mode": {
    "name": "ipython",
    "version": 3
   },
   "file_extension": ".py",
   "mimetype": "text/x-python",
   "name": "python",
   "nbconvert_exporter": "python",
   "pygments_lexer": "ipython3",
   "version": "3.12.3"
  }
 },
 "nbformat": 4,
 "nbformat_minor": 2
}
