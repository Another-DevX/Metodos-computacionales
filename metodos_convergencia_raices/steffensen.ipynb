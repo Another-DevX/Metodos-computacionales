{
 "cells": [
  {
   "cell_type": "code",
   "execution_count": 1,
   "metadata": {},
   "outputs": [],
   "source": [
    "import numpy as np"
   ]
  },
  {
   "cell_type": "code",
   "execution_count": 13,
   "metadata": {},
   "outputs": [],
   "source": [
    "def steffensen(g, p0, eps, Nmax = 1000):\n",
    "    for n in range(Nmax):\n",
    "        p1 = g(p0)\n",
    "        p2 = g(p1)\n",
    "        denominator = p2 - 2 * p1 + p0\n",
    "        if(np.abs(denominator)< 1e-16):\n",
    "            print(n)\n",
    "            return p1\n",
    "        p = p0 - (((p1 - p0)**2)/ denominator)\n",
    "        if(np.abs(p- p0) < eps):\n",
    "            print(n)\n",
    "            break\n",
    "        p0 = p\n",
    "    return p\n"
   ]
  },
  {
   "cell_type": "code",
   "execution_count": 14,
   "metadata": {},
   "outputs": [
    {
     "name": "stdout",
     "output_type": "stream",
     "text": [
      "5\n"
     ]
    },
    {
     "data": {
      "text/plain": [
       "0.7390851332151607"
      ]
     },
     "execution_count": 14,
     "metadata": {},
     "output_type": "execute_result"
    }
   ],
   "source": [
    "steffensen(np.cos, np.pi, 1e-16)"
   ]
  }
 ],
 "metadata": {
  "kernelspec": {
   "display_name": "env",
   "language": "python",
   "name": "python3"
  },
  "language_info": {
   "codemirror_mode": {
    "name": "ipython",
    "version": 3
   },
   "file_extension": ".py",
   "mimetype": "text/x-python",
   "name": "python",
   "nbconvert_exporter": "python",
   "pygments_lexer": "ipython3",
   "version": "3.12.3"
  }
 },
 "nbformat": 4,
 "nbformat_minor": 2
}
