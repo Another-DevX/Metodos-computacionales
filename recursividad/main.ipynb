{
 "cells": [
  {
   "cell_type": "code",
   "execution_count": 3,
   "metadata": {},
   "outputs": [],
   "source": [
    "import numpy as np\n",
    "import time"
   ]
  },
  {
   "cell_type": "code",
   "execution_count": 8,
   "metadata": {},
   "outputs": [
    {
     "name": "stdout",
     "output_type": "stream",
     "text": [
      "time: 0.000959 sec\n",
      "time: 0.000290 sec\n"
     ]
    }
   ],
   "source": [
    "def recursive_fact(n):\n",
    "    if n == 0: return 1\n",
    "    return n*recursive_fact(n-1)\n",
    "\n",
    "def iterative_fact(n):\n",
    "    if n==0: return 1\n",
    "    i=1\n",
    "    f=1\n",
    "    while i<n:\n",
    "        i+=1\n",
    "        f*=i\n",
    "\n",
    "    return f\n",
    "\n",
    "n = 600\n",
    "# Medir tiempo de ejecución de recursive_fact\n",
    "start_time = time.time()\n",
    "recursive_result = recursive_fact(n)\n",
    "end_time = time.time()\n",
    "recursive_time = end_time - start_time\n",
    "\n",
    "# Medir tiempo de ejecución de iterative_fact\n",
    "start_time = time.time()\n",
    "iterative_result = iterative_fact(n)\n",
    "end_time = time.time()\n",
    "iterative_time = end_time - start_time\n",
    "\n",
    "print(f\"time: {recursive_time:.6f} sec\")\n",
    "print(f\"time: {iterative_time:.6f} sec\")"
   ]
  }
 ],
 "metadata": {
  "kernelspec": {
   "display_name": "env",
   "language": "python",
   "name": "python3"
  },
  "language_info": {
   "codemirror_mode": {
    "name": "ipython",
    "version": 3
   },
   "file_extension": ".py",
   "mimetype": "text/x-python",
   "name": "python",
   "nbconvert_exporter": "python",
   "pygments_lexer": "ipython3",
   "version": "3.12.3"
  }
 },
 "nbformat": 4,
 "nbformat_minor": 2
}
