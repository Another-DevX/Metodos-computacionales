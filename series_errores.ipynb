{
 "cells": [
  {
   "cell_type": "code",
   "execution_count": 2,
   "metadata": {},
   "outputs": [
    {
     "name": "stdout",
     "output_type": "stream",
     "text": [
      "0.9961946980894644 8 2.848397280372024e-10\n",
      "0.9961946980917455 0.9961946980894644\n"
     ]
    },
    {
     "name": "stderr",
     "output_type": "stream",
     "text": [
      "/tmp/ipykernel_210616/1187945198.py:7: DeprecationWarning: `np.math` is a deprecated alias for the standard library `math` module (Deprecated Numpy 1.25). Replace usages of `np.math` with `math`\n",
      "  term = (-1)**(n-1)*x**(2.*n-1.)/np.math.factorial(2*n-1)\n"
     ]
    }
   ],
   "source": [
    "import numpy as np\n",
    "\n",
    "x = 85*np.pi/180;  eps = 1.0e-8 # Inicialize   \n",
    "N = 80      # usar un valor mas grande da error\n",
    "Sum = 0.0   # observe que se pone 0.0 (flotante) y no 0 (entero),\n",
    "for n in range(1,N+1): # da el array 1,2,3, ..... N\n",
    "   term = (-1)**(n-1)*x**(2.*n-1.)/np.math.factorial(2*n-1)\n",
    "   Sum = Sum + term\n",
    "   if ( abs (term/Sum) < eps ): break # parar si el error es menor que epsilon\n",
    "   \n",
    "print (Sum, n, abs (term/Sum)) \n",
    "print(np.sin(85*np.pi/180), Sum) # use Sum.dtype para verificar que es un float32"
   ]
  },
  {
   "cell_type": "code",
   "execution_count": 4,
   "metadata": {},
   "outputs": [
    {
     "name": "stdout",
     "output_type": "stream",
     "text": [
      "82.0\n",
      "128.0\n"
     ]
    }
   ],
   "source": [
    " "
   ]
  },
  {
   "cell_type": "code",
   "execution_count": 8,
   "metadata": {},
   "outputs": [
    {
     "name": "stdout",
     "output_type": "stream",
     "text": [
      "0 1.1111111111111112\n",
      "1 1.1111111111111116\n",
      "2 1.111111111111116\n",
      "3 1.1111111111111605\n",
      "4 1.1111111111116045\n",
      "5 1.1111111111160454\n",
      "6 1.1111111111604544\n",
      "7 1.1111111116045436\n",
      "8 1.1111111160454357\n",
      "9 1.1111111604543567\n",
      "10 1.1111116045435665\n",
      "11 1.111116045435665\n",
      "12 1.11116045435665\n",
      "13 1.1116045435665\n",
      "14 1.1160454356650007\n",
      "15 1.160454356650007\n",
      "16 1.6045435665000696\n",
      "17 6.045435665000696\n",
      "18 50.45435665000696\n",
      "19 494.5435665000696\n",
      "20 4935.435665000696\n",
      "21 49344.35665000696\n",
      "22 493433.5665000696\n",
      "23 4934325.665000696\n",
      "24 49343246.65000696\n",
      "25 493432456.50006956\n",
      "26 4934324555.000695\n",
      "27 49343245540.00695\n",
      "28 493432455390.0695\n",
      "29 4934324553890.695\n"
     ]
    }
   ],
   "source": [
    "x = 10/9\n",
    "for i in range(30):\n",
    "    print(i,x)\n",
    "    x=(x-1.0) * 10.0"
   ]
  },
  {
   "cell_type": "code",
   "execution_count": 12,
   "metadata": {},
   "outputs": [
    {
     "data": {
      "text/plain": [
       "1.0"
      ]
     },
     "execution_count": 12,
     "metadata": {},
     "output_type": "execute_result"
    }
   ],
   "source": [
    "3333333333.0/3333333333.0"
   ]
  }
 ],
 "metadata": {
  "kernelspec": {
   "display_name": "env",
   "language": "python",
   "name": "python3"
  },
  "language_info": {
   "codemirror_mode": {
    "name": "ipython",
    "version": 3
   },
   "file_extension": ".py",
   "mimetype": "text/x-python",
   "name": "python",
   "nbconvert_exporter": "python",
   "pygments_lexer": "ipython3",
   "version": "3.12.3"
  }
 },
 "nbformat": 4,
 "nbformat_minor": 2
}
