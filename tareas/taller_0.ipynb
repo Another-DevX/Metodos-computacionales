{
 "cells": [
  {
   "cell_type": "markdown",
   "metadata": {},
   "source": [
    "Crear una función que reciba dos variables lógicas (**True** o **False**) y que calcule la operación lógica **xor**. Luego usando ciclos (**for** o **while**) imprima su tabla de verdad completa.\n",
    "\n",
    "**Ayuda**: La operación **xor** se define como:\n",
    "\n",
    "$$\n",
    "p \\text{ xor } q =\n",
    "\\begin{cases} \n",
    "\\text{not}(q), & \\text{si} \\, p = \\text{True}. \\\\\n",
    "q, & \\text{si} \\, p = \\text{False}.\n",
    "\\end{cases}\n",
    "$$\n",
    "\n",
    "Donde **p** y **q** son variables lógicas.\n"
   ]
  },
  {
   "cell_type": "code",
   "execution_count": 58,
   "metadata": {},
   "outputs": [
    {
     "name": "stdout",
     "output_type": "stream",
     "text": [
      "Tabla de verdad\n",
      "p\tq\tp xor q\n",
      "True\t True\t  False\n",
      "True\t False\t  True\n",
      "False\t True\t  True\n",
      "False\t False\t  False\n"
     ]
    }
   ],
   "source": [
    "def xor(p : bool, q: bool):\n",
    "    if p:\n",
    "        return not q\n",
    "    else:\n",
    "        return q\n",
    "\n",
    "def imprimir_xor():\n",
    "    values = [True, False]\n",
    "\n",
    "    print(\"Tabla de verdad\\np\\tq\\tp xor q\")\n",
    "\n",
    "    for p in values:\n",
    "        for q in values:\n",
    "            result  = xor(p, q)\n",
    "            print(f\"{p}\\t {q}\\t  {result}\")\n",
    "\n",
    "imprimir_xor()"
   ]
  },
  {
   "cell_type": "markdown",
   "metadata": {},
   "source": [
    "Escribir un programa donde dado un número entero $ N$, determine e imprima todos sus posibles divisores (Incluyendo el $1$ y  $N$), además, el programa debe determinar si $N$  es un número primo. Finalmente imprima dos ejemplos (Un primo y otro no primo) con $N > 100$.\n"
   ]
  },
  {
   "cell_type": "code",
   "execution_count": 59,
   "metadata": {},
   "outputs": [
    {
     "name": "stdout",
     "output_type": "stream",
     "text": [
      "Numero no primo 320: {'divisors': [1, 2, 4, 5, 8, 10, 16, 20, 32, 40, 64, 80, 160, 320], 'is prime': False}\n",
      "Numero primo 199: {'divisors': [1, 199], 'is prime': True}\n"
     ]
    }
   ],
   "source": [
    "def max_div(N):\n",
    "    divisors = []\n",
    "    for divisor in range(1, N + 1):\n",
    "        mod = N % divisor \n",
    "        if mod == 0:\n",
    "            divisors.append(divisor)\n",
    "\n",
    "    return {\"divisors\": divisors, \"is prime\": len(divisors) == 2}\n",
    "\n",
    "print(f\"Numero no primo 320: {max_div(320)}\")\n",
    "print(f\"Numero primo 199: {max_div(199)}\")\n"
   ]
  },
  {
   "cell_type": "markdown",
   "metadata": {},
   "source": [
    "Crear una función (Sin usar `np.binary_repr` o similares) que reciba dos números enteros $ N $ y $ n $. La función debe retornar la descomposición en base binaria de $ N $ en una lista con un tamaño $ n $. Póngala a prueba con $ n = 8 $:\n",
    "\n",
    "a) $ N = 45 \\rightarrow 00101101_2 $\n",
    "\n",
    "b) $ N = 100 \\rightarrow 01100100_2 $\n",
    "\n",
    "c)  $N = 1000 \\rightarrow \\text{Error, no es posible con un tamaño } n = 8$\n"
   ]
  },
  {
   "cell_type": "code",
   "execution_count": 60,
   "metadata": {},
   "outputs": [
    {
     "name": "stdout",
     "output_type": "stream",
     "text": [
      "[0, 0, 1, 0, 1, 1, 0, 1]\n",
      "[0, 1, 1, 0, 0, 1, 0, 0]\n",
      "El numero no se puede descomponer en los bits solicitados n = 8\n"
     ]
    }
   ],
   "source": [
    "def binary_descomposition(N, n):\n",
    "    binary_representation = []\n",
    "    for _ in range(n):\n",
    "        binary_representation.insert(0, N % 2)\n",
    "        N //= 2\n",
    "\n",
    "    if (N > 0):\n",
    "       return(f\"El numero no se puede descomponer en los bits solicitados n = {n}\")\n",
    "    else:\n",
    "        return binary_representation\n",
    "print(f\"{binary_descomposition(45, 8)}\\n{binary_descomposition(100, 8)}\\n{binary_descomposition(1000, 8)}\")\n",
    "        "
   ]
  },
  {
   "cell_type": "markdown",
   "metadata": {},
   "source": [
    "Una pizzería ofrece pizzas vegetarianas y no vegetarianas a sus clientes. Los sabores para cada tipo de pizza aparecen a continuación:\n",
    "\n",
    "- **Sabores vegetarianos**:\n",
    "  1. Vegetales.\n",
    "  2. Napolitana.\n",
    "\n",
    "- **Sabores no vegetarianos**:\n",
    "  1. Peperoni.\n",
    "  2. Jamón.\n",
    "  3. Ranchera.\n",
    "\n",
    "a) Escribir un programa que pregunte al usuario el tipo de pizza que desea y en función de su respuesta le muestre un menú con los sabores disponibles. (Puede usar la función `input`).\n",
    "\n",
    "b) El usuario debe elegir un sabor y el programa deberá preguntar al usuario si desea ordenar otra pizza.\n",
    "\n",
    "c) Una vez el usuario finalice este proceso, imprimir todos los pedidos.\n"
   ]
  },
  {
   "cell_type": "code",
   "execution_count": 61,
   "metadata": {},
   "outputs": [
    {
     "name": "stdout",
     "output_type": "stream",
     "text": [
      "Pizzas disponibles:\n",
      "1. Vegetales\n",
      "2. Napolitana\n",
      "Tu pedido: ['Napolitana']\n"
     ]
    }
   ],
   "source": [
    "def pizza(pizzas):\n",
    "    ingredients = {\n",
    "        1: [\"Vegetales\", \"Napolitana\"],\n",
    "        2: [\"Pepperoni\", \"Jamón\", \"Ranchera\"]\n",
    "    }\n",
    "\n",
    "    option = int(input(\"¿Qué tipo de pizza deseas? \\n 1. Vegetariana \\n 2. No Vegetariana\\n\"))\n",
    "    \n",
    "    if option in ingredients:\n",
    "        print(\"Pizzas disponibles:\")\n",
    "        for idx, pizza_name in enumerate(ingredients[option], start=1):\n",
    "            print(f\"{idx}. {pizza_name}\")\n",
    "        \n",
    "        pizza_selection = int(input(\"Selecciona una pizza por número: \"))\n",
    "        if 1 <= pizza_selection <= len(ingredients[option]):\n",
    "            pizzas.append(ingredients[option][pizza_selection - 1])\n",
    "        else:\n",
    "            print(\"Selección inválida.\")\n",
    "            return pizza(pizzas)\n",
    "    else:\n",
    "        print(\"Opción inválida.\")\n",
    "        return pizza(pizzas)\n",
    "\n",
    "    if input(\"¿Deseas pedir otra pizza? (si/no): \").strip().lower() == \"si\":\n",
    "        return pizza(pizzas)\n",
    "\n",
    "    print(\"Tu pedido:\", pizzas)\n",
    "\n",
    "# Inicializar lista de pedidos\n",
    "pedidos = []\n",
    "pizza(pedidos)\n"
   ]
  }
 ],
 "metadata": {
  "kernelspec": {
   "display_name": "env",
   "language": "python",
   "name": "python3"
  },
  "language_info": {
   "codemirror_mode": {
    "name": "ipython",
    "version": 3
   },
   "file_extension": ".py",
   "mimetype": "text/x-python",
   "name": "python",
   "nbconvert_exporter": "python",
   "pygments_lexer": "ipython3",
   "version": "3.12.3"
  }
 },
 "nbformat": 4,
 "nbformat_minor": 2
}
